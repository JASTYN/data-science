{
 "cells": [
  {
   "cell_type": "code",
   "execution_count": 2,
   "id": "89cc510c",
   "metadata": {},
   "outputs": [],
   "source": [
    "# Import libraries \n",
    "import requests \n",
    "from bs4 import BeautifulSoup \n"
   ]
  },
  {
   "cell_type": "code",
   "execution_count": 3,
   "id": "bcbd34e2",
   "metadata": {},
   "outputs": [],
   "source": [
    "# URL from which pdfs to be downloaded \n",
    "url = \"https://knecnotes.com/introduction-to-labour-law-notes/\"\n"
   ]
  },
  {
   "cell_type": "code",
   "execution_count": 4,
   "id": "1b316369",
   "metadata": {},
   "outputs": [],
   "source": [
    "# Requests URL and get response object \n",
    "response = requests.get(url) \n",
    "\n",
    "# Parse text obtained \n",
    "soup = BeautifulSoup(response.text, 'html.parser') "
   ]
  },
  {
   "cell_type": "code",
   "execution_count": 5,
   "id": "8d4f4843",
   "metadata": {},
   "outputs": [],
   "source": [
    "# Find all hyperlinks present on webpage \n",
    "links = soup.find_all('a') \n",
    "\n",
    "i = 0\n"
   ]
  },
  {
   "cell_type": "code",
   "execution_count": 6,
   "id": "ca683418",
   "metadata": {},
   "outputs": [
    {
     "name": "stdout",
     "output_type": "stream",
     "text": [
      "All PDF files downloaded\n"
     ]
    }
   ],
   "source": [
    "# From all links check for pdf link and \n",
    "# if present download file \n",
    "for link in links: \n",
    "    if ('KNEC-labour-law-notes-1-7.pdf' in link.get('href', [])): \n",
    "        i += 1\n",
    "        print(\"Downloading file: \", i) \n",
    "\n",
    "        # Get response object for link \n",
    "        response = requests.get(link.get('href')) \n",
    "\n",
    "        # Write content in pdf file \n",
    "        pdf = open(\"pdf\"+str(i)+\".pdf\", 'wb') \n",
    "        pdf.write(response.content) \n",
    "        pdf.close() \n",
    "        print(\"File \", i, \" downloaded\") \n",
    "\n",
    "print(\"All PDF files downloaded\")"
   ]
  },
  {
   "cell_type": "code",
   "execution_count": null,
   "id": "a4e3b566",
   "metadata": {},
   "outputs": [],
   "source": []
  },
  {
   "cell_type": "code",
   "execution_count": null,
   "id": "8281c7f0",
   "metadata": {},
   "outputs": [],
   "source": []
  },
  {
   "cell_type": "code",
   "execution_count": null,
   "id": "b2d0340b",
   "metadata": {},
   "outputs": [],
   "source": []
  }
 ],
 "metadata": {
  "kernelspec": {
   "display_name": "Python 3 (ipykernel)",
   "language": "python",
   "name": "python3"
  },
  "language_info": {
   "codemirror_mode": {
    "name": "ipython",
    "version": 3
   },
   "file_extension": ".py",
   "mimetype": "text/x-python",
   "name": "python",
   "nbconvert_exporter": "python",
   "pygments_lexer": "ipython3",
   "version": "3.9.6"
  }
 },
 "nbformat": 4,
 "nbformat_minor": 5
}
